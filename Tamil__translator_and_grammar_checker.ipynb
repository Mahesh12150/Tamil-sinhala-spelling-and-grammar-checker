{
  "nbformat": 4,
  "nbformat_minor": 0,
  "metadata": {
    "colab": {
      "provenance": []
    },
    "kernelspec": {
      "name": "python3",
      "display_name": "Python 3"
    },
    "language_info": {
      "name": "python"
    }
  },
  "cells": [
    {
      "cell_type": "code",
      "execution_count": 32,
      "metadata": {
        "colab": {
          "base_uri": "https://localhost:8080/"
        },
        "id": "y-bONuOi7l1o",
        "outputId": "4a4ab2cc-54ec-4caa-a43f-e03e5780a4c7"
      },
      "outputs": [
        {
          "output_type": "stream",
          "name": "stdout",
          "text": [
            "Drive already mounted at /content/drive; to attempt to forcibly remount, call drive.mount(\"/content/drive\", force_remount=True).\n"
          ]
        }
      ],
      "source": [
        "from google.colab import drive\n",
        "drive.mount('/content/drive')\n"
      ]
    },
    {
      "cell_type": "code",
      "source": [
        "# Function to load all Tamil words from the file into a set for fast lookup\n",
        "def load_tamil_words(filename=\"/content/drive/MyDrive/AllTamilWords.txt\"):\n",
        "    with open(filename, \"r\", encoding=\"utf-8\") as file:\n",
        "        tamil_words = set(word.strip() for word in file.readlines())\n",
        "    return tamil_words\n",
        "\n",
        "# Load the Tamil words into a set\n",
        "tamil_words = load_tamil_words()\n"
      ],
      "metadata": {
        "id": "xD6aBSv1nrHy"
      },
      "execution_count": 33,
      "outputs": []
    },
    {
      "cell_type": "code",
      "source": [
        "pip install python-Levenshtein\n"
      ],
      "metadata": {
        "colab": {
          "base_uri": "https://localhost:8080/"
        },
        "id": "uWQs55fBnwBS",
        "outputId": "1a2316e1-a2f3-4452-e419-85f7e5bf93fd"
      },
      "execution_count": 15,
      "outputs": [
        {
          "output_type": "stream",
          "name": "stdout",
          "text": [
            "Collecting python-Levenshtein\n",
            "  Downloading python_Levenshtein-0.26.1-py3-none-any.whl.metadata (3.7 kB)\n",
            "Collecting Levenshtein==0.26.1 (from python-Levenshtein)\n",
            "  Downloading levenshtein-0.26.1-cp310-cp310-manylinux_2_17_x86_64.manylinux2014_x86_64.whl.metadata (3.2 kB)\n",
            "Collecting rapidfuzz<4.0.0,>=3.9.0 (from Levenshtein==0.26.1->python-Levenshtein)\n",
            "  Downloading rapidfuzz-3.11.0-cp310-cp310-manylinux_2_17_x86_64.manylinux2014_x86_64.whl.metadata (11 kB)\n",
            "Downloading python_Levenshtein-0.26.1-py3-none-any.whl (9.4 kB)\n",
            "Downloading levenshtein-0.26.1-cp310-cp310-manylinux_2_17_x86_64.manylinux2014_x86_64.whl (162 kB)\n",
            "\u001b[2K   \u001b[90m━━━━━━━━━━━━━━━━━━━━━━━━━━━━━━━━━━━━━━━━\u001b[0m \u001b[32m162.6/162.6 kB\u001b[0m \u001b[31m9.2 MB/s\u001b[0m eta \u001b[36m0:00:00\u001b[0m\n",
            "\u001b[?25hDownloading rapidfuzz-3.11.0-cp310-cp310-manylinux_2_17_x86_64.manylinux2014_x86_64.whl (3.1 MB)\n",
            "\u001b[2K   \u001b[90m━━━━━━━━━━━━━━━━━━━━━━━━━━━━━━━━━━━━━━━━\u001b[0m \u001b[32m3.1/3.1 MB\u001b[0m \u001b[31m48.4 MB/s\u001b[0m eta \u001b[36m0:00:00\u001b[0m\n",
            "\u001b[?25hInstalling collected packages: rapidfuzz, Levenshtein, python-Levenshtein\n",
            "Successfully installed Levenshtein-0.26.1 python-Levenshtein-0.26.1 rapidfuzz-3.11.0\n"
          ]
        }
      ]
    },
    {
      "cell_type": "code",
      "source": [
        "import Levenshtein\n",
        "\n",
        "# Function to get the closest match using Levenshtein distance\n",
        "def get_closest_word(word, word_list, max_distance=2):\n",
        "    closest_word = word\n",
        "    min_distance = max_distance\n",
        "\n",
        "    for dict_word in word_list:\n",
        "        distance = Levenshtein.distance(word, dict_word)\n",
        "        if distance < min_distance:\n",
        "            min_distance = distance\n",
        "            closest_word = dict_word\n",
        "\n",
        "    return closest_word\n",
        "\n",
        "# Function to correct spelling mistakes in a sentence\n",
        "def correct_sentence(sentence, tamil_words):\n",
        "    words = sentence.split()  # Split the sentence into words\n",
        "    corrected_words = []\n",
        "\n",
        "    for word in words:\n",
        "        # Check if the word exists in the dictionary, if not, find the closest match\n",
        "        if word in tamil_words:\n",
        "            corrected_words.append(word)\n",
        "        else:\n",
        "            corrected_word = get_closest_word(word, tamil_words)\n",
        "            corrected_words.append(corrected_word)\n",
        "\n",
        "    return ' '.join(corrected_words)  # Join the corrected words back into a sentence\n",
        "\n",
        "# Example usage:\n",
        "# Load Tamil words into the word list (for example purpose, we add a few words here)\n",
        "tamil_words = [\"கோபம்\", \"நபர்\", \"பாடம்\", \"படிக்கின்றேன்\",\"பாடு\", \"நகரம்\", \"அந்தி\", \"கடை\", \"குடும்பம்\", \"பூ\", \"காற்று\", \"சமையல்\", \"புத்தகம்\", \"சந்திரன்\",\"சிரிப்பு\", \"சுட்டி\", \"சூரியன்\", \"தந்தை\", \"தண்ணீர்\", \"தவம்\", \"தவறு\"]  # Add more words here as needed\n",
        "\n",
        "input_sentence = \"ஒரு நாள், கபம் வந்த நபர், படம் படிக்கின்றன் என்று சொல்லி, நகரம வந்தான். அவன் அந்தி நேரத்தில் நகரத்தின் அழகை பார்த்து மகிழ்ந்தான். அது அவனுக்கு ஒரு புதிய அனுபவமாக இருந்தது\"  # Example sentence with a spelling mistake\n",
        "corrected_sentence = correct_sentence(input_sentence, tamil_words)\n",
        "print(\"Input Sentence:\", input_sentence)\n",
        "print(\"Corrected Sentence:\", corrected_sentence)\n",
        "\n",
        "input_sentence1 = \"நான் இன்று கல்லூரியில் படிக்கிறேன். படம் முடிந்த பிறகு, நான் நகம் சென்று அந்தி நேரத்தில் கடயில் சென்றேன். என் குடும்பம் என்னுடன் இருந்தது, அப்போது பக்கத்தில் பூ வாசம் பரப்பியது. காற்று மிகவும் கொலுத்தியது, ஆனால் அது மனதை சுவாசமாக ஆக்கின.\"  # Example sentence with a spelling mistake\n",
        "corrected_sentence1 = correct_sentence(input_sentence1, tamil_words)\n",
        "print(\"Input Sentence:\", input_sentence1)\n",
        "print(\"Corrected Sentence:\", corrected_sentence1)\n",
        "\n",
        "input_sentence2 = \"நான் இன்று என் குடும்பம உடன் வீட்டில் இருந்தேன். அப்போது வீட்டில் பூப்பொருளின் வாசம் பரவி சென்றது. ஒரு அசைவுடன் காற்ற வீசியது. நான் சமையலு சென்று, புத்கம் படிக்க ஆரம்பித்தேன்.\"  # Example sentence with a spelling mistake\n",
        "corrected_sentence2 = correct_sentence(input_sentence2, tamil_words)\n",
        "print(\"Input Sentence:\", input_sentence2)\n",
        "print(\"Corrected Sentence:\", corrected_sentence2)\n",
        "\n",
        "input_sentence3 = \"ஒரு நாள், காபி குடித்து வெளியே சென்றேன். அப்போது ஒரு நர் நரம் தெருக்களில் நடந்து கொண்டிருந்தான். அவன் படம் படிக்கின்றேன் என்று சொன்னான், ஆனால் அவனுக்கு பாடு இருந்தது. அந்தி நேரத்தில், அவன் கடையில் சமையல் வாசனையை உணர்ந்தான். கடையின் அருகில் பூ வைப்பது பரபரப்பாக இருந்தது, மேலும் காறறு மிகவும் நன்மையை உண்டாக்கியது. அந்த உணர்வு அவனுடைய குடும்பத்தை நினைவில் கொண்டுவந்தது\"  # Example sentence with a spelling mistake\n",
        "corrected_sentence3 = correct_sentence(input_sentence3, tamil_words)\n",
        "print(\"Input Sentence:\", input_sentence3)\n",
        "print(\"Corrected Sentence:\", corrected_sentence3)\n",
        "\n",
        "input_sentence4 = \"ஒரு நாள், சரிப்பு போல ஒரு சுட்ட பரவியது. சூரின் முழு சக்தியுடன் ஒளி வீசிக்கொண்டிருந்தது. ததை மகிழ்ச்சியுடன் தணணீர் பாட்டிலுக்கு நீர் நிரப்பினார். அவர்கள் எல்லோரும் தவம செய்கிறனர், ஆனால் வறு போதுமான முறையில் செய்யவில்லை.\"  # Example sentence with a spelling mistake\n",
        "corrected_sentence4 = correct_sentence(input_sentence4, tamil_words)\n",
        "print(\"Input Sentence:\", input_sentence4)\n",
        "print(\"Corrected Sentence:\", corrected_sentence4)"
      ],
      "metadata": {
        "colab": {
          "base_uri": "https://localhost:8080/"
        },
        "id": "qoTsNnuYoOwq",
        "outputId": "93e6b145-5b6c-4bd6-94c1-796798c9a195"
      },
      "execution_count": 84,
      "outputs": [
        {
          "output_type": "stream",
          "name": "stdout",
          "text": [
            "Input Sentence: ஒரு நாள், கபம் வந்த நபர், படம் படிக்கின்றன் என்று சொல்லி, நகரம வந்தான். அவன் அந்தி நேரத்தில் நகரத்தின் அழகை பார்த்து மகிழ்ந்தான். அது அவனுக்கு ஒரு புதிய அனுபவமாக இருந்தது\n",
            "Corrected Sentence: ஒரு நாள், கோபம் வந்த நபர் பாடம் படிக்கின்றேன் என்று சொல்லி, நகரம் வந்தான். அவன் அந்தி நேரத்தில் நகரத்தின் அழகை பார்த்து மகிழ்ந்தான். அது அவனுக்கு ஒரு புதிய அனுபவமாக இருந்தது\n",
            "Input Sentence: நான் இன்று கல்லூரியில் படிக்கிறேன். படம் முடிந்த பிறகு, நான் நகம் சென்று அந்தி நேரத்தில் கடயில் சென்றேன். என் குடும்பம் என்னுடன் இருந்தது, அப்போது பக்கத்தில் பூ வாசம் பரப்பியது. காற்று மிகவும் கொலுத்தியது, ஆனால் அது மனதை சுவாசமாக ஆக்கின.\n",
            "Corrected Sentence: நான் இன்று கல்லூரியில் படிக்கிறேன். பாடம் முடிந்த பிறகு, நான் நகரம் சென்று அந்தி நேரத்தில் கடயில் சென்றேன். என் குடும்பம் என்னுடன் இருந்தது, அப்போது பக்கத்தில் பூ வாசம் பரப்பியது. காற்று மிகவும் கொலுத்தியது, ஆனால் அது மனதை சுவாசமாக ஆக்கின.\n",
            "Input Sentence: நான் இன்று என் குடும்பம உடன் வீட்டில் இருந்தேன். அப்போது வீட்டில் பூப்பொருளின் வாசம் பரவி சென்றது. ஒரு அசைவுடன் காற்ற வீசியது. நான் சமையலு சென்று, புத்கம் படிக்க ஆரம்பித்தேன்.\n",
            "Corrected Sentence: நான் இன்று என் குடும்பம் உடன் வீட்டில் இருந்தேன். அப்போது வீட்டில் பூப்பொருளின் வாசம் பரவி சென்றது. ஒரு அசைவுடன் காற்று வீசியது. நான் சமையல் சென்று, புத்தகம் படிக்க ஆரம்பித்தேன்.\n",
            "Input Sentence: ஒரு நாள், காபி குடித்து வெளியே சென்றேன். அப்போது ஒரு நர் நரம் தெருக்களில் நடந்து கொண்டிருந்தான். அவன் படம் படிக்கின்றேன் என்று சொன்னான், ஆனால் அவனுக்கு பாடு இருந்தது. அந்தி நேரத்தில், அவன் கடையில் சமையல் வாசனையை உணர்ந்தான். கடையின் அருகில் பூ வைப்பது பரபரப்பாக இருந்தது, மேலும் காறறு மிகவும் நன்மையை உண்டாக்கியது. அந்த உணர்வு அவனுடைய குடும்பத்தை நினைவில் கொண்டுவந்தது\n",
            "Corrected Sentence: ஒரு நாள், காபி குடித்து வெளியே சென்றேன். அப்போது ஒரு நபர் நகரம் தெருக்களில் நடந்து கொண்டிருந்தான். அவன் பாடம் படிக்கின்றேன் என்று சொன்னான், ஆனால் அவனுக்கு பாடு இருந்தது. அந்தி நேரத்தில், அவன் கடையில் சமையல் வாசனையை உணர்ந்தான். கடையின் அருகில் பூ வைப்பது பரபரப்பாக இருந்தது, மேலும் காற்று மிகவும் நன்மையை உண்டாக்கியது. அந்தி உணர்வு அவனுடைய குடும்பத்தை நினைவில் கொண்டுவந்தது\n",
            "Input Sentence: ஒரு நாள், சரிப்பு போல ஒரு சுட்ட பரவியது. சூரின் முழு சக்தியுடன் ஒளி வீசிக்கொண்டிருந்தது. ததை மகிழ்ச்சியுடன் தணணீர் பாட்டிலுக்கு நீர் நிரப்பினார். அவர்கள் எல்லோரும் தவம செய்கிறனர், ஆனால் வறு போதுமான முறையில் செய்யவில்லை.\n",
            "Corrected Sentence: ஒரு நாள், சிரிப்பு போல ஒரு சுட்டி பரவியது. சூரியன் முழு சக்தியுடன் ஒளி வீசிக்கொண்டிருந்தது. ததை மகிழ்ச்சியுடன் தண்ணீர் பாட்டிலுக்கு நபர் நிரப்பினார். அவர்கள் எல்லோரும் தவம் செய்கிறனர், ஆனால் தவறு போதுமான முறையில் செய்யவில்லை.\n"
          ]
        }
      ]
    }
  ]
}